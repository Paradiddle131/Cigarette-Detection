{
 "cells": [
  {
   "cell_type": "code",
   "execution_count": 1,
   "metadata": {},
   "outputs": [],
   "source": [
    "import cv2\n",
    "import numpy as np"
   ]
  },
  {
   "cell_type": "code",
   "execution_count": 25,
   "metadata": {},
   "outputs": [],
   "source": [
    "cigar_cascade = cv2.CascadeClassifier('data/cigar_cascade100x75_6_stages.xml') #cig"
   ]
  },
  {
   "cell_type": "code",
   "execution_count": 27,
   "metadata": {},
   "outputs": [],
   "source": [
    "cigar_cascade = cv2.CascadeClassifier('data/cigar_cascade100x84_6_stages.xml') #cig w/ hand"
   ]
  },
  {
   "cell_type": "code",
   "execution_count": 41,
   "metadata": {},
   "outputs": [],
   "source": [
    "cigar_img = cv2.imread('test_smoking_vids/frames/00001.png')\n",
    "cigar_img2 = cv2.imread('test_smoking_vids/frames/00002.png')\n",
    "cigar_img3 = cv2.imread('test_smoking_vids/frames/car.jpeg')\n",
    "cigar_img4 = cv2.imread('test_smoking_vids/frames/car2.jpg')\n",
    "\n",
    "cigar_vid = 'test_smoking_vids/smoking.mp4'\n",
    "cigar_vid2 = 'test_smoking_vids/smoking2.mp4'\n",
    "cigar_vid3 = 'test_smoking_vids/ANTI SMOKING Toxic Cycle on Vimeo.mp4'\n",
    "#cigar_vid4 = 'test_smoking_vids/Smoking With Episode 1 Veronica.mp4'"
   ]
  },
  {
   "cell_type": "code",
   "execution_count": 5,
   "metadata": {},
   "outputs": [],
   "source": [
    "def detect(img):\n",
    "    cig_img = img.copy()\n",
    "    gray = cv2.cvtColor(cig_img, cv2.COLOR_BGR2GRAY)\n",
    "    cigs = cigar_cascade.detectMultiScale(gray, 1.3, 40)\n",
    "    for (x,y,w,h) in cigs:\n",
    "        cv2.rectangle(cig_img, (x,y), (x+w, y+h), (0,0,255), 2)\n",
    "    return cig_img"
   ]
  },
  {
   "cell_type": "markdown",
   "metadata": {},
   "source": [
    "## Image"
   ]
  },
  {
   "cell_type": "code",
   "execution_count": 10,
   "metadata": {},
   "outputs": [],
   "source": [
    "cv2.imshow('cig', detect(cigar_img4))\n",
    "cv2.waitKey(0)\n",
    "cv2.destroyAllWindows()"
   ]
  },
  {
   "cell_type": "markdown",
   "metadata": {},
   "source": [
    "## Rotation"
   ]
  },
  {
   "cell_type": "code",
   "execution_count": 13,
   "metadata": {},
   "outputs": [],
   "source": [
    "import imutils\n",
    "\n",
    "def rotate(image):\n",
    "    rotated = imutils.rotate_bound(image, 90)\n",
    "    return rotated"
   ]
  },
  {
   "cell_type": "markdown",
   "metadata": {},
   "source": [
    "## Video"
   ]
  },
  {
   "cell_type": "code",
   "execution_count": 40,
   "metadata": {},
   "outputs": [],
   "source": [
    "cap = cv2.VideoCapture(cigar_vid2)\n",
    "_, frame = cap.read()\n",
    "if frame.shape[0]*1.78 < frame.shape[1]: # Vertical, 9:16 ratio\n",
    "    rot = True\n",
    "while True:\n",
    "    try:\n",
    "        ret, frame = cap.read()\n",
    "        gray = cv2.cvtColor(frame, cv2.COLOR_BGR2GRAY)\n",
    "        if rot:\n",
    "            gray = frame = rotate(frame)\n",
    "        cigs = cigar_cascade.detectMultiScale(gray, 1.35, 60)\n",
    "        for (x,y,w,h) in cigs:\n",
    "            cv2.rectangle(frame, (x,y), (x+w, y+h), (0,0,255), 2)\n",
    "        cv2.imshow('frame', frame)\n",
    "        k = cv2.waitKey(30) & 0xff\n",
    "        if k == 27:\n",
    "            break\n",
    "    except Exception as e:\n",
    "        print(e, '\\nFIN')\n",
    "        break\n",
    "cap.release()\n",
    "cv2.destroyAllWindows()"
   ]
  },
  {
   "cell_type": "markdown",
   "metadata": {},
   "source": [
    "#### Another way to rotate\n",
    "######         (r, c) = frame.shape[:2] \n",
    "######         center = (int(c/2), int(r/2))\n",
    "######         M = cv2.getRotationMatrix2D(center, 270, 1.0)\n",
    "######         rotated = cv2.warpAffine(frame, M, (r, c))"
   ]
  }
 ],
 "metadata": {
  "kernelspec": {
   "display_name": "Python 3",
   "language": "python",
   "name": "python3"
  },
  "language_info": {
   "codemirror_mode": {
    "name": "ipython",
    "version": 3
   },
   "file_extension": ".py",
   "mimetype": "text/x-python",
   "name": "python",
   "nbconvert_exporter": "python",
   "pygments_lexer": "ipython3",
   "version": "3.7.3"
  }
 },
 "nbformat": 4,
 "nbformat_minor": 4
}
